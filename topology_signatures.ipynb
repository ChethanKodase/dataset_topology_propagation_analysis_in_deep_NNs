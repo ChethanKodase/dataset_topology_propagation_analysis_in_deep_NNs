{
 "cells": [
  {
   "cell_type": "code",
   "execution_count": 1,
   "metadata": {},
   "outputs": [],
   "source": [
    "import sympy as sp\n",
    "import minterpy as mp\n",
    "import numpy as np\n",
    "from minterpy.pointcloud_utils import *\n",
    "\n",
    "from mpl_toolkits import mplot3d\n",
    "%matplotlib inline\n",
    "\n",
    "from mpl_toolkits.mplot3d import axes3d\n",
    "\n",
    "import torch\n",
    "import torchvision\n",
    "from torchvision import transforms, datasets\n",
    "\n",
    "import random\n",
    "import numpy as np\n",
    "import matplotlib.pyplot as plt\n",
    "\n",
    "import os\n",
    "from operator import itemgetter\n",
    "\n",
    "device = torch.device('cuda' if torch.cuda.is_available() else 'cpu')\n",
    "\n",
    "import ot\n",
    "\n",
    "from sklearn.neighbors import NearestNeighbors\n",
    "\n",
    "import ripser\n",
    "import persim\n",
    "from persim import plot_diagrams\n",
    "\n",
    "from operator import itemgetter\n",
    "\n",
    "\n",
    "#do pip installs as follows to use vedo for plotting point clouds\n",
    "#pip install vedo\n",
    "#pip install ipyvtklink\n",
    "\n",
    "import numpy as np\n",
    "from vedo import *\n",
    "\n",
    "import matplotlib.pyplot\n",
    "from mpl_toolkits.mplot3d import Axes3D\n",
    "\n",
    "import time\n"
   ]
  },
  {
   "cell_type": "code",
   "execution_count": 2,
   "metadata": {},
   "outputs": [],
   "source": [
    "x, y, z = sp.symbols('x y z')\n",
    "\n",
    "expr = x**2 + y**2 + z**2 - 1\n",
    "poly = sp.Poly(expr, x, y, z)"
   ]
  },
  {
   "cell_type": "code",
   "execution_count": 3,
   "metadata": {},
   "outputs": [],
   "source": [
    "# convert sympy polynomial to minyterpy polynomial\n",
    "newt_poly = sympy_to_mp(poly, mp.NewtonPolynomial)"
   ]
  },
  {
   "cell_type": "code",
   "execution_count": 4,
   "metadata": {},
   "outputs": [],
   "source": [
    "#sample points\n",
    "point_data = sample_points_on_poly(50,        # Number of points to be sampled\n",
    "                                   newt_poly,  # Polynomial in Newton basis\n",
    "                                   bounds=1, # Boundary of the Cubic domain to be sampled\n",
    "                                   tol=1e-15)  # Tolerance in solution"
   ]
  },
  {
   "cell_type": "code",
   "execution_count": 5,
   "metadata": {},
   "outputs": [],
   "source": [
    "def _compute_distance_matrix(x, p=2):\n",
    "    x_flat = x.view(x.size(0), -1)\n",
    "\n",
    "    distances = torch.norm(x_flat[:, None] - x_flat, dim=2, p=p)\n",
    "\n",
    "    return distances"
   ]
  },
  {
   "cell_type": "code",
   "execution_count": 6,
   "metadata": {},
   "outputs": [
    {
     "data": {
      "application/vnd.jupyter.widget-view+json": {
       "model_id": "0dbc803a4bbe45c79eb601a226d08bcf",
       "version_major": 2,
       "version_minor": 0
      },
      "text/plain": [
       "ViewInteractiveWidget(height=960, layout=Layout(height='auto', width='100%'), width=960)"
      ]
     },
     "metadata": {},
     "output_type": "display_data"
    }
   ],
   "source": [
    "\n",
    "x_so = point_data[:,0]\n",
    "\n",
    "y_so = point_data[:,1]\n",
    "\n",
    "z_so = point_data[:,2]\n",
    "\n",
    "\n",
    "plot_points = [x_so,y_so,z_so]\n",
    "Points(plot_points).show(axes=1)"
   ]
  },
  {
   "cell_type": "code",
   "execution_count": 7,
   "metadata": {},
   "outputs": [
    {
     "name": "stdout",
     "output_type": "stream",
     "text": [
      "Runtime of the program is 0.012126922607421875\n"
     ]
    }
   ],
   "source": [
    "point_data = torch.tensor(point_data)\n",
    "\n",
    "dist_matrix = _compute_distance_matrix(point_data, p=2)\n",
    "\n",
    "start = time.time()\n",
    "\n",
    "diagrams = ripser.ripser(dist_matrix.cpu().detach().numpy(), distance_matrix=True, maxdim=2)['dgms']\n",
    "\n",
    "end = time.time()\n",
    "\n",
    "print(f\"Runtime of the program is {end - start}\")"
   ]
  },
  {
   "cell_type": "code",
   "execution_count": 8,
   "metadata": {},
   "outputs": [
    {
     "data": {
      "image/png": "[encoded data removed]",
      "text/plain": [
       "<Figure size 432x288 with 1 Axes>"
      ]
     },
     "metadata": {
      "needs_background": "light"
     },
     "output_type": "display_data"
    }
   ],
   "source": [
    "plot_diagrams(diagrams, show=True)"
   ]
  },
  {
   "cell_type": "code",
   "execution_count": 9,
   "metadata": {},
   "outputs": [],
   "source": [
    "#trials on torus"
   ]
  },
  {
   "cell_type": "code",
   "execution_count": 10,
   "metadata": {},
   "outputs": [],
   "source": [
    "## Torus\n",
    "R = 1.5\n",
    "r = 0.7\n",
    "expr_torus = (x**2 + y**2 + z**2 + R**2 - r**2)**2 - 4*R**2*(x**2 + y**2)\n"
   ]
  },
  {
   "cell_type": "code",
   "execution_count": 11,
   "metadata": {},
   "outputs": [],
   "source": [
    "poly_torus = sp.Poly(expr_torus, x, y, z)"
   ]
  },
  {
   "cell_type": "code",
   "execution_count": 12,
   "metadata": {},
   "outputs": [
    {
     "data": {
      "text/latex": [
       "$\\displaystyle 1.0 x^{4} + 2.0 x^{2} y^{2} + 2.0 x^{2} z^{2} - 5.48 x^{2} + 1.0 y^{4} + 2.0 y^{2} z^{2} - 5.48 y^{2} + 1.0 z^{4} + 3.52 z^{2} + 3.0976$"
      ],
      "text/plain": [
       "1.0*x**4 + 2.0*x**2*y**2 + 2.0*x**2*z**2 - 5.48*x**2 + 1.0*y**4 + 2.0*y**2*z**2 - 5.48*y**2 + 1.0*z**4 + 3.52*z**2 + 3.0976"
      ]
     },
     "execution_count": 12,
     "metadata": {},
     "output_type": "execute_result"
    }
   ],
   "source": [
    "sp.expand(expr_torus)"
   ]
  },
  {
   "cell_type": "code",
   "execution_count": 13,
   "metadata": {},
   "outputs": [],
   "source": [
    "#Convert sympy polynomial to minterpy polynomial\n",
    "\n",
    "newt_poly_torus = sympy_to_mp(poly_torus, mp.NewtonPolynomial)"
   ]
  },
  {
   "cell_type": "code",
   "execution_count": 14,
   "metadata": {},
   "outputs": [],
   "source": [
    "#Sample points on the zero isocontour\n",
    "def points_on_torus(num_points):\n",
    "    \n",
    "    point_data_torus = sample_points_on_poly(num_points,        # Number of points to be sampled\n",
    "                                       newt_poly_torus,  # Polynomial in Newton basis\n",
    "                                       bounds=3.0, # Boundary of the Cubic domain to be sampled\n",
    "                                       tol=1e-15)  # Tolerance in solution\n",
    "    \n",
    "    return point_data_torus"
   ]
  },
  {
   "cell_type": "code",
   "execution_count": 28,
   "metadata": {},
   "outputs": [],
   "source": [
    "points_1 = points_on_torus(500)"
   ]
  },
  {
   "cell_type": "code",
   "execution_count": 29,
   "metadata": {},
   "outputs": [
    {
     "data": {
      "application/vnd.jupyter.widget-view+json": {
       "model_id": "5d4a35600c9f4935b1c15e073a55fda7",
       "version_major": 2,
       "version_minor": 0
      },
      "text/plain": [
       "ViewInteractiveWidget(height=960, layout=Layout(height='auto', width='100%'), width=960)"
      ]
     },
     "metadata": {},
     "output_type": "display_data"
    }
   ],
   "source": [
    "\n",
    "x_so = points_1[:,0]\n",
    "\n",
    "y_so = points_1[:,1]\n",
    "\n",
    "z_so = points_1[:,2]\n",
    "\n",
    "\n",
    "plot_points = [x_so,y_so,z_so]\n",
    "Points(plot_points).show(axes=1)"
   ]
  },
  {
   "cell_type": "code",
   "execution_count": 30,
   "metadata": {},
   "outputs": [
    {
     "name": "stdout",
     "output_type": "stream",
     "text": [
      "Runtime of the program is 11.755108118057251\n"
     ]
    }
   ],
   "source": [
    "point_data = torch.tensor(points_1)\n",
    "\n",
    "dist_matrix = _compute_distance_matrix(point_data, p=2)\n",
    "\n",
    "start = time.time()\n",
    "\n",
    "diagrams = ripser.ripser(dist_matrix.cpu().detach().numpy(), distance_matrix=True, maxdim=2)['dgms']\n",
    "\n",
    "end = time.time()\n",
    "\n",
    "print(f\"Runtime of the program is {end - start}\")"
   ]
  },
  {
   "cell_type": "code",
   "execution_count": 31,
   "metadata": {},
   "outputs": [
    {
     "data": {
      "image/png": "[encoded data removed]",
      "text/plain": [
       "<Figure size 640x480 with 1 Axes>"
      ]
     },
     "metadata": {},
     "output_type": "display_data"
    }
   ],
   "source": [
    "plot_diagrams(diagrams, show=True)"
   ]
  },
  {
   "cell_type": "code",
   "execution_count": 32,
   "metadata": {},
   "outputs": [
    {
     "name": "stdout",
     "output_type": "stream",
     "text": [
      "[[ 0.50348376  1.51758548 -1.10723285 ... -0.89520346  0.70943981\n",
      "   1.42768504]\n",
      " [ 1.06924956 -0.73602665  0.33266791 ...  1.56986669 -1.05075934\n",
      "  -0.94165355]\n",
      " [ 0.3169368   0.76898368 -1.73806537 ...  0.62960685  1.18657811\n",
      "  -0.85079396]]\n"
     ]
    }
   ],
   "source": [
    "def PointsInCircumNDim(points, transform_to_nD):\n",
    "    circle_nD = np.matmul(points, transform_to_nD)\n",
    "    return circle_nD\n",
    "\n",
    "# transform to torus from 3d space to 15d space\n",
    "dim = 1024\n",
    "transform_to_nD = 4*np.random.rand(3, dim)-2\n",
    "print(transform_to_nD)\n",
    "\n",
    "data_tr = torch.from_numpy(PointsInCircumNDim(np.array(points_1), transform_to_nD)).float()\n"
   ]
  },
  {
   "cell_type": "code",
   "execution_count": 33,
   "metadata": {},
   "outputs": [
    {
     "data": {
      "text/plain": [
       "torch.Size([500, 1024])"
      ]
     },
     "execution_count": 33,
     "metadata": {},
     "output_type": "execute_result"
    }
   ],
   "source": [
    "data_tr.shape"
   ]
  },
  {
   "cell_type": "code",
   "execution_count": 34,
   "metadata": {},
   "outputs": [
    {
     "name": "stdout",
     "output_type": "stream",
     "text": [
      "Runtime of the program is 11.612678289413452\n"
     ]
    }
   ],
   "source": [
    "#point_data = torch.tensor(points_1)\n",
    "\n",
    "dist_matrix = _compute_distance_matrix(data_tr, p=2)\n",
    "\n",
    "start = time.time()\n",
    "\n",
    "diagrams = ripser.ripser(dist_matrix.cpu().detach().numpy(), distance_matrix=True, maxdim=2)['dgms']\n",
    "\n",
    "end = time.time()\n",
    "\n",
    "print(f\"Runtime of the program is {end - start}\")"
   ]
  },
  {
   "cell_type": "code",
   "execution_count": 35,
   "metadata": {},
   "outputs": [
    {
     "data": {
      "image/png": "[encoded data removed]",
      "text/plain": [
       "<Figure size 640x480 with 1 Axes>"
      ]
     },
     "metadata": {},
     "output_type": "display_data"
    }
   ],
   "source": [
    "plot_diagrams(diagrams, show=True)"
   ]
  },
  {
   "cell_type": "code",
   "execution_count": null,
   "metadata": {},
   "outputs": [],
   "source": []
  }
 ],
 "metadata": {
  "kernelspec": {
   "display_name": "Python 3.9.7 ('myenv')",
   "language": "python",
   "name": "python3"
  },
  "language_info": {
   "codemirror_mode": {
    "name": "ipython",
    "version": 3
   },
   "file_extension": ".py",
   "mimetype": "text/x-python",
   "name": "python",
   "nbconvert_exporter": "python",
   "pygments_lexer": "ipython3",
   "version": "3.9.7"
  },
  "orig_nbformat": 4,
  "vscode": {
   "interpreter": {
    "hash": "3692b3ef59e7728d2be3452101a8b78f0eb4de921f81f985613a05eb18e1c282"
   }
  }
 },
 "nbformat": 4,
 "nbformat_minor": 2
}
